{
 "cells": [
  {
   "cell_type": "markdown",
   "id": "a30c7e2b",
   "metadata": {},
   "source": [
    "# Basic Prediction using Linear Regression\n",
    "\n",
    "This notebook demonstrates how to build a simple linear regression model using Python and scikit-learn. It covers data generation, visualization, model training, prediction, and evaluation."
   ]
  },
  {
   "cell_type": "markdown",
   "id": "b91451f0",
   "metadata": {},
   "source": [
    "## 1. Import Required Libraries\n",
    "We start by importing the necessary Python libraries."
   ]
  },
  {
   "cell_type": "code",
   "execution_count": 1,
   "id": "e2d9b73e",
   "metadata": {},
   "outputs": [],
   "source": [
    "import seaborn as sns"
   ]
  },
  {
   "cell_type": "markdown",
   "id": "0eee3f24",
   "metadata": {},
   "source": [
    "## 2. Generate Sample Dataset\n",
    "We generate a synthetic dataset for linear regression using `make_regression`."
   ]
  },
  {
   "cell_type": "code",
   "execution_count": 2,
   "id": "3d791da0",
   "metadata": {},
   "outputs": [
    {
     "data": {
      "text/html": [
       "<div>\n",
       "<style scoped>\n",
       "    .dataframe tbody tr th:only-of-type {\n",
       "        vertical-align: middle;\n",
       "    }\n",
       "\n",
       "    .dataframe tbody tr th {\n",
       "        vertical-align: top;\n",
       "    }\n",
       "\n",
       "    .dataframe thead th {\n",
       "        text-align: right;\n",
       "    }\n",
       "</style>\n",
       "<table border=\"1\" class=\"dataframe\">\n",
       "  <thead>\n",
       "    <tr style=\"text-align: right;\">\n",
       "      <th></th>\n",
       "      <th>sepal_length</th>\n",
       "      <th>sepal_width</th>\n",
       "      <th>petal_length</th>\n",
       "      <th>petal_width</th>\n",
       "      <th>species</th>\n",
       "    </tr>\n",
       "  </thead>\n",
       "  <tbody>\n",
       "    <tr>\n",
       "      <th>0</th>\n",
       "      <td>5.1</td>\n",
       "      <td>3.5</td>\n",
       "      <td>1.4</td>\n",
       "      <td>0.2</td>\n",
       "      <td>setosa</td>\n",
       "    </tr>\n",
       "    <tr>\n",
       "      <th>1</th>\n",
       "      <td>4.9</td>\n",
       "      <td>3.0</td>\n",
       "      <td>1.4</td>\n",
       "      <td>0.2</td>\n",
       "      <td>setosa</td>\n",
       "    </tr>\n",
       "    <tr>\n",
       "      <th>2</th>\n",
       "      <td>4.7</td>\n",
       "      <td>3.2</td>\n",
       "      <td>1.3</td>\n",
       "      <td>0.2</td>\n",
       "      <td>setosa</td>\n",
       "    </tr>\n",
       "    <tr>\n",
       "      <th>3</th>\n",
       "      <td>4.6</td>\n",
       "      <td>3.1</td>\n",
       "      <td>1.5</td>\n",
       "      <td>0.2</td>\n",
       "      <td>setosa</td>\n",
       "    </tr>\n",
       "    <tr>\n",
       "      <th>4</th>\n",
       "      <td>5.0</td>\n",
       "      <td>3.6</td>\n",
       "      <td>1.4</td>\n",
       "      <td>0.2</td>\n",
       "      <td>setosa</td>\n",
       "    </tr>\n",
       "  </tbody>\n",
       "</table>\n",
       "</div>"
      ],
      "text/plain": [
       "   sepal_length  sepal_width  petal_length  petal_width species\n",
       "0           5.1          3.5           1.4          0.2  setosa\n",
       "1           4.9          3.0           1.4          0.2  setosa\n",
       "2           4.7          3.2           1.3          0.2  setosa\n",
       "3           4.6          3.1           1.5          0.2  setosa\n",
       "4           5.0          3.6           1.4          0.2  setosa"
      ]
     },
     "execution_count": 2,
     "metadata": {},
     "output_type": "execute_result"
    }
   ],
   "source": [
    "iris = sns.load_dataset('iris')\n",
    "iris.head()"
   ]
  },
  {
   "cell_type": "code",
   "execution_count": 3,
   "id": "ff786798",
   "metadata": {},
   "outputs": [],
   "source": [
    "x = iris.drop('species', axis=1)\n",
    "y = iris['species']\n"
   ]
  },
  {
   "cell_type": "markdown",
   "id": "aaf9ba5d",
   "metadata": {},
   "source": [
    "## 3. Visualize the Dataset\n",
    "We use a scatter plot to visualize the relationship between the features and the target."
   ]
  },
  {
   "cell_type": "code",
   "execution_count": 21,
   "id": "572707f4",
   "metadata": {},
   "outputs": [
    {
     "data": {
      "image/png": "[encoded data removed]",
      "text/plain": [
       "<Figure size 432x288 with 1 Axes>"
      ]
     },
     "metadata": {
      "needs_background": "light"
     },
     "output_type": "display_data"
    }
   ],
   "source": [
    "import matplotlib.pyplot as plt\n",
    "\n",
    "plt.scatter(x.iloc[:, 0], y, color='blue')\n",
    "plt.title(\"Feature vs Target\")\n",
    "plt.xlabel(\"Feature\")\n",
    "plt.ylabel(\"Target\")\n",
    "plt.grid(True)\n",
    "plt.show()"
   ]
  },
  {
   "cell_type": "markdown",
   "id": "c096fc9f",
   "metadata": {},
   "source": [
    "## 4. Train the Linear Regression Model\n",
    "We train a `LinearRegression` model using the generated data."
   ]
  },
  {
   "cell_type": "code",
   "execution_count": 22,
   "id": "9e196d8c",
   "metadata": {},
   "outputs": [],
   "source": [
    "from sklearn.model_selection import train_test_split\n",
    "from sklearn.linear_model import LogisticRegression\n",
    "\n",
    "X_train, X_test, y_train, y_test = train_test_split(x, y)\n",
    "logmodel = LogisticRegression()\n",
    "logmodel.fit(X_train,y_train)"
   ]
  },
  {
   "cell_type": "markdown",
   "id": "9f42952c",
   "metadata": {},
   "source": [
    "## 5. Predict with the Trained Model\n",
    "Use the trained model to predict values and visualize them."
   ]
  },
  {
   "cell_type": "code",
   "execution_count": 26,
   "id": "832a9e9d",
   "metadata": {},
   "outputs": [
    {
     "name": "stdout",
     "output_type": "stream",
     "text": [
      "['setosa' 'versicolor' 'setosa' 'versicolor' 'virginica' 'virginica'\n",
      " 'setosa' 'setosa' 'setosa' 'virginica' 'versicolor' 'virginica'\n",
      " 'versicolor' 'setosa' 'virginica' 'versicolor' 'versicolor' 'versicolor'\n",
      " 'versicolor' 'setosa' 'virginica' 'virginica' 'setosa' 'setosa'\n",
      " 'virginica' 'virginica' 'virginica' 'setosa' 'versicolor' 'versicolor'\n",
      " 'versicolor' 'setosa' 'setosa' 'virginica' 'versicolor' 'versicolor'\n",
      " 'versicolor' 'versicolor']\n"
     ]
    }
   ],
   "source": [
    "y_pred = logmodel.predict(X_test)\n",
    "print(y_pred)"
   ]
  },
  {
   "cell_type": "markdown",
   "id": "eaf25f00",
   "metadata": {},
   "source": [
    "## 6. Model Evaluation\n",
    "Evaluate the performance of the model using metrics like MSE and R² score."
   ]
  },
  {
   "cell_type": "code",
   "execution_count": 23,
   "id": "214a7c38",
   "metadata": {},
   "outputs": [
    {
     "name": "stdout",
     "output_type": "stream",
     "text": [
      "Accuracy Score:\n",
      "0.34210526315789475\n"
     ]
    }
   ],
   "source": [
    "from sklearn.metrics import classification_report, confusion_matrix, accuracy_score\n",
    "\n",
    "# Accuracy score\n",
    "accuracy = accuracy_score(y_test, y_pred)\n",
    "print(\"Accuracy Score:\")\n",
    "print(accuracy)"
   ]
  },
  {
   "cell_type": "markdown",
   "id": "43cb328d",
   "metadata": {},
   "source": [
    "## 7. Predict on Custom Input\n",
    "Make predictions with custom values to test the model."
   ]
  },
  {
   "cell_type": "code",
   "execution_count": 29,
   "id": "c43202c2",
   "metadata": {},
   "outputs": [
    {
     "name": "stdout",
     "output_type": "stream",
     "text": [
      "Input 1: [5.1 3.5 1.4 0.2] → Predicted Species: setosa\n",
      "Input 2: [6.7 3.1 4.7 1.5] → Predicted Species: versicolor\n",
      "Input 3: [7.2 3.  5.8 1.6] → Predicted Species: virginica\n"
     ]
    }
   ],
   "source": [
    "import pandas as pd\n",
    "\n",
    "# Recreate the column names from your training DataFrame\n",
    "feature_names = X_train.columns\n",
    "\n",
    "# Create a DataFrame for custom input\n",
    "custom_input_df = pd.DataFrame([\n",
    "    [5.1, 3.5, 1.4, 0.2],\n",
    "    [6.7, 3.1, 4.7, 1.5],\n",
    "    [7.2, 3.0, 5.8, 1.6]\n",
    "], columns=feature_names)\n",
    "\n",
    "# Make predictions\n",
    "custom_predictions = logmodel.predict(custom_input_df)\n",
    "\n",
    "# Output results\n",
    "for i, pred in enumerate(custom_predictions):\n",
    "    print(f\"Input {i+1}: {custom_input_df.iloc[i].values} → Predicted Species: {pred}\")\n"
   ]
  },
  {
   "cell_type": "code",
   "execution_count": null,
   "id": "5e5df8cd",
   "metadata": {},
   "outputs": [],
   "source": []
  }
 ],
 "metadata": {
  "kernelspec": {
   "display_name": "Python 3 (ipykernel)",
   "language": "python",
   "name": "python3"
  },
  "language_info": {
   "codemirror_mode": {
    "name": "ipython",
    "version": 3
   },
   "file_extension": ".py",
   "mimetype": "text/x-python",
   "name": "python",
   "nbconvert_exporter": "python",
   "pygments_lexer": "ipython3",
   "version": "3.9.12"
  }
 },
 "nbformat": 4,
 "nbformat_minor": 5
}
